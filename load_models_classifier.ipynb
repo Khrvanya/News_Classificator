{
 "cells": [
  {
   "cell_type": "code",
   "execution_count": 102,
   "metadata": {},
   "outputs": [],
   "source": [
    "import numpy as np\n",
    "import joblib\n",
    "import os\n",
    "\n",
    "MIN_POSSIBILITY = .35\n",
    "CURR_PATH = os.path.abspath(os.curdir)\n",
    "MODELS_PATH = os.path.join(CURR_PATH, 'models')\n",
    "\n",
    "from node_structure import make_node_structure, Node\n",
    "ROOT_NODE = make_node_structure(MODELS_PATH)"
   ]
  },
  {
   "cell_type": "code",
   "execution_count": 103,
   "metadata": {},
   "outputs": [],
   "source": [
    "def article_classify(article: str, node: Node, diff_coef=.1) -> set:\n",
    "    \"\"\"\n",
    "    Gets an article text and Node with pipeline\n",
    "    Returns the set of string names of categories which the article belongs to\n",
    "    \n",
    "    params article: the article that has to be classified\n",
    "    params node: has downloaded pipeline\n",
    "    params diff_coef: the difference between the max category result and the others\n",
    "    \"\"\"\n",
    "    \n",
    "    try:\n",
    "        y_pred = node.pipeline.predict_proba(article).reshape(-1)\n",
    "                \n",
    "        mask = y_pred > (y_pred.max() - diff_coef)\n",
    "        classes = sorted(list(node.get_children_names())) \n",
    "        # other PCs may had loaded sets differently, not in alphabet order, find out how\n",
    "                \n",
    "        result = set(np.array(classes)[mask]) if y_pred.max() >= MIN_POSSIBILITY else set()\n",
    "        \n",
    "    except Exception as error:\n",
    "        print('node name: ', node.name) \n",
    "        print('error: ', error)\n",
    "        assert node.pipeline == 'Error! No path exists!', '!!!No such pipeline loaded!!!'\n",
    "        result = {}\n",
    "    \n",
    "    return result"
   ]
  },
  {
   "cell_type": "code",
   "execution_count": 104,
   "metadata": {},
   "outputs": [],
   "source": [
    "def article_tree_classify(article: list, node=ROOT_NODE, diff_coef=.1) -> dict:\n",
    "    \"\"\"\n",
    "    Classifies an article above all the tree, which you can see in node structure\n",
    "    Gets Node structure, article, diff_coef, which is metioned above\n",
    "    Returns a dictionary, which is used rucursively to create categories and \n",
    "    subcategories and ... which this article is in\n",
    "    \n",
    "    params article:  the text article that has to be classified\n",
    "    params node: a tree structure that classifies the article\n",
    "    params diff_coef: the difference between the max category result and the others\n",
    "    \"\"\"\n",
    "    \n",
    "    if not node.children_set:\n",
    "        return {}\n",
    "    \n",
    "    diction = {}\n",
    "    result_categories = article_classify(article, node, diff_coef)\n",
    "    \n",
    "    while result_categories:\n",
    "        category = result_categories.pop()\n",
    "        \n",
    "        for node in node.children_set:\n",
    "            \n",
    "            if category == node.name:\n",
    "                diction[category] = article_tree_classify(article, node)            \n",
    " \n",
    "    return diction"
   ]
  },
  {
   "cell_type": "code",
   "execution_count": 105,
   "metadata": {
    "scrolled": true
   },
   "outputs": [
    {
     "name": "stdout",
     "output_type": "stream",
     "text": [
      "[\"While soaking up the golden rays of the summer sun, how about adding some gold-focused stocks to your portfolio?\\nA member of The Motley Fool since 2006, Scott began contributing content in 2013. His focus includes renewable energy, gold, and water utilities. Follow him on Twitter. . . Follow @scott81236\\nWith the first full month of summer under way, it's not only the days that are growing warmer. The gold market is also heating up. On the first day of July, August gold futures flirted with the $1,800 threshold, crossing it briefly and then falling. Nonetheless, it was the highest price gold futures had reached since August 2011.\\nBetween COVID-19 cases rising in several areas throughout the U.S. and geopolitical tensions remaining high, it's clear that investors are motivated to maintain exposure to gold as a hedge against overall market volatility. Investors, therefore, may find themselves motivated to add some gold exposure to their portfolios. And it just so happens that there are some compelling opportunities right now: stocks like Equinox Gold ( NYSEMKT:EQX ), Franco-Nevada ( NYSE:FNV ), and Newmont Goldcorp ( NYSE:NEM ).\\nEquinox Gold may not have been one of the more recognizable names among gold investors, but having completed a merger with Leagold Mining in March, it certainly deserves some attention now. In addition to operating six mines throughout the Americas, the company also has four projects in development.\\nFor 2020, management is targeting gold production of 540,000 ounces to 600,000 ounces, but the company imagines this will grow significantly, targeting annual gold production (though it hasn't provided a time frame) of 1 million ounces. With proven and probable gold reserves of 12.2 million ounces and measured and indicated resources of 21.9 million ounces, the company seems capable of achieving this target through organic growth.\\nForecasting 2020 all-in sustaining costs of about $1,030 per ounce, Equinox Gold has the potential to generate a strong margin this year with gold averaging $1,646 per ounce year to date. But what is especially alluring about the company is the amount of skin that management has in the game. Insiders own about 9% of the company, a considerable amount compared with most of its peers; consequently, investors can rest assured that management is motivated to grow shareholder value.\\nFor gold-seeking investors who are not interested in the individual companies digging the metal out of the ground, Franco-Nevada is an ideal choice. A royalty and streaming company, Franco-Nevada operates more like a banker than a miner, providing up-front capital to mining companies. In exchange, Franco-Nevada retains the rights to purchase a certain amount of gold (or other metal) at a pre-set discounted price, or to receive a percentage of mineral production from a mine.\\nFranco-Nevada's exposure to gold is considerable. Partnering with some of the world's leading mining companies, it has a portfolio of gold and gold-equivalent projects representing 56 operating assets, 35 in advanced development, and 206 in the exploration phase, suggesting that there are ample opportunities for growth.\\nIn terms of its financials, the company glitters brightly. With no debt on its balance sheet, it is in sound financial health. And for investors who prefer socially responsible ESG investing , Franco-Nevada is a worthy consideration. Sustainalytics, a leader in ESG and corporate governance research, rated it No. 1 out of 104 precious metals companies.\\nIn addition to being the only gold producer in the S&P 500, Newmont is the largest publicly traded gold miner based on market cap. The company, founded in 1921, will be celebrating its 100th birthday, making it one of the most experienced names in the industry.\\nInvestors will find that it is in a secure financial position. With a net debt-to-adjusted- EBITDA ratio of about 0.7, it's clear that management is not overly reliant on leverage. And in the first quarter of 2020, it refinanced about $1 billion of the company's debt, a move expected to save about $17 million annually in interest payments.\\nWhile gold-mining companies are not typically at the forefront of dividend investors' minds, Newmont stands out among its peers with one of the highest yields, 1.63%, after raising the quarterly distribution 79% in Q1 to $0.25 per share. But it's not only the dividend that exemplifies management's commitment to increasing shareholder value; it also has a goal of repurchasing $1 billion in stock by the end of 2020. Investors would be well-served to recognize that the company's declarations of future dividends may remain flat or possibly dip in the future and will rely heavily on future gold prices.\\nInvestors looking to add exposure to gold can often feel overwhelmed by the different avenues before them: purchasing gold bullion, investing in a mining company, buying into an ETF. While there are advantages and disadvantages to each, Equinox Gold, Franco-Nevada, and Newmont are three of the most lustrous opportunities for investors in July.\\nFor those with a long time horizon and a higher threshold for risk, Equinox is a worthy consideration. On the other hand, more-conservative investors would be better served by Franco-Nevada, which, unlike mining companies, doesn't have exposure to the risks associated with the construction of mines. And Newmont represents a viable option for those with an eye for dividends.\\n\"]\n"
     ]
    }
   ],
   "source": [
    "article_path = r'queries\\metals, metals finance, metals, metals news, metals stocks, metals futures, metals shares\\3 Gold Stocks to Buy in July.txt'\n",
    "f = open(article_path, 'r')\n",
    "f = [f.read()]\n",
    "print(f)"
   ]
  },
  {
   "cell_type": "code",
   "execution_count": 95,
   "metadata": {
    "scrolled": true
   },
   "outputs": [
    {
     "name": "stdout",
     "output_type": "stream",
     "text": [
      "['Amy Legate-Wolfe | April 25, 2020 | More on: SU PKI SU\\nItвЂ™s been a rough few years for CanadaвЂ™s oil and gas industry. Even before the market crash, energy stocks across the board fell as the oil and gas glut grew, and production around the world continued as normal. As the market crash hit, more bad news came, with Russia announcing it would not cut back oil production, and Saudi Arabia it would even increase its production. Then, a market rally led to some hope.\\nBoth countries announced cuts to production, and there are rumours of further cuts on the way. This coupled with a market rally has brought energy stocks up a bit, but there is definitely still room for improvement. But before you buy up any old energy stock, there are a few that should perform better a lot sooner than the rest.\\nOne of the top energy stocks analysts recommend is Suncor Energy Inc. (TSX:SU) (NYSE:SU) . This Warren Buffett pick has been sliced in half with the market crash. But with a market rally on the way, investors may soon catch on to the growth potential of Suncor stock.\\nWhy will Suncor stock should see improvement well before its peers? ItвЂ™s CanadaвЂ™s largest integrated energy company. While pure production oil companies are seeing a huge downturn, Suncor remains stable thanks to its downstream operations, and the company stands to make a killing in the future once the oil market improves. Suncor bought up several oil sands projects that will provide the company with decades of crude production.\\nWith the company seeing a bounce-back in earnings far sooner than its peers, the company will be able to start up these oil projects practically right away, which should see Suncor stock soar among other energy stocks with an improved oil price during this market rally.\\nWhile you may have to wait to see huge improvement, Suncor remains a perfect buy and hold stock. In the meantime, you can enjoy the companyвЂ™s whopping 8.44% dividend yield , and a potential upside of 36% to reach fair value as of writing.\\nA lesser-known option out there with the same set up as Suncor stock is Parkland Fuel Corp. (TSX:PKI) . While it may not have the household name of Suncor, investors could see todayвЂ™s investment double just to reach fair value during this market rally.\\nParkland is similar to Suncor stock, as unlike other energy stocks, the company both supplies and markets its fuel and petroleum products, and is also a convenience store operator вЂ” diversity that gives the company far more opportunity to rebound in todayвЂ™s market rally.\\nThere is the companyвЂ™s $4.35 billion debt to consider, but Parkland made a smart move cutting its capital spending for the year. It also has $1 billion on hand, and with a sharp rebound likely after oil prices recover, the companyвЂ™s acquisitions will help Parkland stock soar.\\nThatвЂ™s why this stock is ripe for the picking for todayвЂ™s investors. The stock has a potential upside of 60% as of writing, with a solid 4.41% dividend yield that isnвЂ™t likely to go anywhere. Energy stocks like this with such a low price point donвЂ™t stay down like for long.\\nWith so many energy stocks to consider, Suncor stock and Parkland stock are really the only two that are worth your time during todayвЂ™s market rally. Until the price of oil comes back up, these two are likely the only ones to see improvement in earnings with a market rebound.\\nThe companies both have diversified businesses that will allow them to bounce back up and continue growing organically for decades.\\nMotley Fool Canada\\'s market-beating team has just released a brand-new FREE report revealing 5 \"dirt cheap\" stocks that you can buy today for under $49 a share.\\nOur team thinks these 5 stocks are critically undervalued, but more importantly, could potentially make Canadian investors who act quickly a fortune.\\nDon\\'t miss out! Simply click the link below to grab your free copy and discover all 5 of these stocks now.\\nFool contributor Amy Legate-Wolfe has no position in any of the stocks mentioned.\\nTwo New Stock Picks Every Month!\\nNot to alarm you, but youвЂ™re about to miss an important event.\\nIain Butler and the Stock Advisor Canada team only publish their new вЂњbuy alertsвЂќ twice a month, and only to an exclusively small group.\\nThis is your chance to get in early on what could prove to be very special investment advice.\\nEnter your email address below to get started now, and join the other thousands of Canadians who have already signed up for their chance to get the market-beating advice from Stock Advisor Canada.\\nI consent to receiving information from The Motley Fool via email, direct mail, and occasional special offer phone calls. I understand I can unsubscribe from these updates at any time. Please read the Privacy Statement and Terms of Service for more information.\\n']\n"
     ]
    }
   ],
   "source": [
    "article_path = r'queries\\energy, energy, energy finance, energy news, energy stocks, energy futures, energy shares\\2 Top Energy Stocks to Buy Now.txt'\n",
    "f = open(article_path, 'r')\n",
    "f = [f.read()]\n",
    "print(f)"
   ]
  },
  {
   "cell_type": "code",
   "execution_count": 106,
   "metadata": {},
   "outputs": [
    {
     "data": {
      "text/plain": [
       "{'metals': {'gold': {}}}"
      ]
     },
     "execution_count": 106,
     "metadata": {},
     "output_type": "execute_result"
    }
   ],
   "source": [
    "article_tree_classify(f)"
   ]
  },
  {
   "cell_type": "code",
   "execution_count": null,
   "metadata": {},
   "outputs": [],
   "source": []
  },
  {
   "cell_type": "code",
   "execution_count": null,
   "metadata": {},
   "outputs": [],
   "source": []
  },
  {
   "cell_type": "code",
   "execution_count": null,
   "metadata": {},
   "outputs": [],
   "source": []
  },
  {
   "cell_type": "code",
   "execution_count": null,
   "metadata": {},
   "outputs": [],
   "source": []
  },
  {
   "cell_type": "code",
   "execution_count": null,
   "metadata": {},
   "outputs": [],
   "source": []
  },
  {
   "cell_type": "code",
   "execution_count": null,
   "metadata": {},
   "outputs": [],
   "source": []
  },
  {
   "cell_type": "code",
   "execution_count": 84,
   "metadata": {},
   "outputs": [
    {
     "name": "stdout",
     "output_type": "stream",
     "text": [
      "235 ms ± 53.4 ms per loop (mean ± std. dev. of 7 runs, 1 loop each)\n"
     ]
    }
   ],
   "source": [
    "%timeit article_tree_classify(f)"
   ]
  },
  {
   "cell_type": "code",
   "execution_count": 85,
   "metadata": {},
   "outputs": [
    {
     "name": "stdout",
     "output_type": "stream",
     "text": [
      "137 µs ± 8.23 µs per loop (mean ± std. dev. of 7 runs, 10000 loops each)\n"
     ]
    }
   ],
   "source": [
    "%timeit make_node_structure()"
   ]
  },
  {
   "cell_type": "code",
   "execution_count": 107,
   "metadata": {},
   "outputs": [
    {
     "name": "stdout",
     "output_type": "stream",
     "text": [
      "23.5 s ± 231 ms per loop (mean ± std. dev. of 7 runs, 1 loop each)\n"
     ]
    }
   ],
   "source": [
    "%timeit make_node_structure(MODELS_PATH)"
   ]
  },
  {
   "cell_type": "code",
   "execution_count": null,
   "metadata": {},
   "outputs": [],
   "source": []
  }
 ],
 "metadata": {
  "kernelspec": {
   "display_name": "Python 3",
   "language": "python",
   "name": "python3"
  }
 },
 "nbformat": 4,
 "nbformat_minor": 4
}
