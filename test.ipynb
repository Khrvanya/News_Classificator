{
 "cells": [
  {
   "cell_type": "code",
   "execution_count": 1,
   "metadata": {},
   "outputs": [],
   "source": [
    "from scrape_queries import scrape_categories, QUERIES_PATH\n",
    "from train_models import make_classification_models, MODELS_PATH\n",
    "from node_structure import make_node_structure"
   ]
  },
  {
   "cell_type": "code",
   "execution_count": 2,
   "metadata": {},
   "outputs": [],
   "source": [
    "root = make_node_structure()"
   ]
  },
  {
   "cell_type": "code",
   "execution_count": 3,
   "metadata": {
    "scrolled": true
   },
   "outputs": [
    {
     "name": "stdout",
     "output_type": "stream",
     "text": [
      "!!!start scraping finance categories!!!\n",
      "!!!end scraping finance categories!!!\n",
      "\n",
      "\n",
      "!!!start scraping energy categories!!!\n",
      "!!!end scraping energy categories!!!\n",
      "\n",
      "\n",
      "!!!start scraping agriculture categories!!!\n",
      "!!!end scraping agriculture categories!!!\n",
      "\n",
      "\n",
      "!!!start scraping index categories!!!\n",
      "!!!end scraping index categories!!!\n",
      "\n",
      "\n",
      "!!!start scraping metals categories!!!\n",
      "!!!end scraping metals categories!!!\n",
      "\n",
      "\n",
      "!!!start scraping cryptocurrency categories!!!\n",
      "!!!end scraping cryptocurrency categories!!!\n",
      "\n",
      "\n",
      "!!!start scraping forex categories!!!\n",
      "!!!end scraping forex categories!!!\n",
      "\n",
      "\n"
     ]
    }
   ],
   "source": [
    "scrape_categories(root, QUERIES_PATH)"
   ]
  },
  {
   "cell_type": "code",
   "execution_count": 4,
   "metadata": {
    "scrolled": false
   },
   "outputs": [
    {
     "name": "stdout",
     "output_type": "stream",
     "text": [
      "!!!start making finance pipeline!!!\n",
      "\n",
      "!!!making pipeline for node: \n",
      " {'agriculture': 1500, 'cryptocurrency': 1500, 'energy': 1500, 'forex': 1500, 'index stocks': 1500, 'metals': 1500} !!!\n",
      "\n",
      "!!!best pipeline steps:  tfidfv-logreg !!!\n",
      "!!!best pipeline params:  {'logreg__C': 3.1622776601683795, 'tfidfv__max_features': 2000, 'tfidfv__ngram_range': (1, 2)} !!!\n",
      "\n",
      "!!!best mean and std cross-val score:  0.8950793650793651 ,  0.00811544319438999 !!!\n",
      "!!!test score:  0.8877777777777778 !!!\n",
      "\n",
      "!!!end making finance pipeline!!!\n",
      "\n",
      "\n",
      "!!!start making energy pipeline!!!\n",
      "\n",
      "!!!making pipeline for node: \n",
      " {'brent crude': 985, 'crude oil': 1000, 'natural gas': 1000} !!!\n",
      "\n",
      "!!!best pipeline steps:  cv-rf !!!\n",
      "!!!best pipeline params:  {'cv__max_features': 1500, 'cv__ngram_range': (1, 2), 'rf__max_depth': 15, 'rf__max_features': 0.7, 'rf__n_estimators': 50} !!!\n",
      "\n",
      "!!!best mean and std cross-val score:  0.775987057244157 ,  0.01238459175830229 !!!\n",
      "!!!test score:  0.75 !!!\n",
      "\n",
      "!!!end making energy pipeline!!!\n",
      "\n",
      "\n",
      "!!!start making agriculture pipeline!!!\n",
      "\n",
      "!!!making pipeline for node: \n",
      " {'cattle': 1000, 'corn': 1000, 'soybean': 1000, 'sugar': 1000} !!!\n",
      "\n",
      "!!!best pipeline steps:  tfidfv-logreg !!!\n",
      "!!!best pipeline params:  {'logreg__C': 0.21544346900318845, 'tfidfv__max_features': 300, 'tfidfv__ngram_range': (1, 2)} !!!\n",
      "\n",
      "!!!best mean and std cross-val score:  0.8375 ,  0.0156899161689206 !!!\n",
      "!!!test score:  0.8266666666666667 !!!\n",
      "\n",
      "!!!end making agriculture pipeline!!!\n",
      "\n",
      "\n",
      "!!!start making index pipeline!!!\n",
      "\n",
      "!!!making pipeline for node: \n",
      " {'NYSE Composite': 1000, 'Nasdaq100': 531, 'Nikkei 225': 704, 'Russell 2000': 742, 'S26P 500': 1000} !!!\n",
      "\n",
      "!!!best pipeline steps:  cv-rf !!!\n",
      "!!!best pipeline params:  {'cv__max_features': 1500, 'cv__ngram_range': (1, 2), 'rf__max_depth': 15, 'rf__max_features': 0.5, 'rf__n_estimators': 200} !!!\n",
      "\n",
      "!!!best mean and std cross-val score:  0.7190046885292484 ,  0.030010639640910265 !!!\n",
      "!!!test score:  0.7068676716917923 !!!\n",
      "\n",
      "!!!end making index pipeline!!!\n",
      "\n",
      "\n",
      "!!!start making metals pipeline!!!\n",
      "\n",
      "!!!making pipeline for node: \n",
      " {'copper': 1000, 'gold': 1000, 'platinum': 1000, 'silver': 1000} !!!\n",
      "\n",
      "!!!best pipeline steps:  cv-rf !!!\n",
      "!!!best pipeline params:  {'cv__max_features': 1000, 'cv__ngram_range': (1, 1), 'rf__max_depth': None, 'rf__max_features': 0.5, 'rf__n_estimators': 200} !!!\n",
      "\n",
      "!!!best mean and std cross-val score:  0.8282142857142858 ,  0.026835667705955985 !!!\n",
      "!!!test score:  0.8166666666666667 !!!\n",
      "\n",
      "!!!end making metals pipeline!!!\n",
      "\n",
      "\n",
      "!!!start making cryptocurrency pipeline!!!\n",
      "\n",
      "!!!making pipeline for node: \n",
      " {'bitcoin': 1000, 'dash': 1000, 'ethereum': 1000, 'litecoin': 795, 'monero': 915, 'ripple': 1000} !!!\n",
      "\n",
      "!!!best pipeline steps:  cv-rf !!!\n",
      "!!!best pipeline params:  {'cv__max_features': 2000, 'cv__ngram_range': (1, 1), 'rf__max_depth': 15, 'rf__max_features': 0.5, 'rf__n_estimators': 100} !!!\n",
      "\n",
      "!!!best mean and std cross-val score:  0.7220397371714643 ,  0.025745001923715656 !!!\n",
      "!!!test score:  0.7098657326328079 !!!\n",
      "\n",
      "!!!end making cryptocurrency pipeline!!!\n",
      "\n",
      "\n",
      "!!!start making forex pipeline!!!\n",
      "\n",
      "!!!making pipeline for node: \n",
      " {'CNY': 1000, 'EUR': 1000, 'GBP': 1000, 'JPY': 1000, 'RUB': 1000} !!!\n",
      "\n",
      "!!!best pipeline steps:  tfidfv-rf !!!\n",
      "!!!best pipeline params:  {'rf__max_depth': 15, 'rf__max_features': 0.5, 'rf__n_estimators': 200, 'tfidfv__max_features': 1500, 'tfidfv__ngram_range': (1, 2)} !!!\n",
      "\n",
      "!!!best mean and std cross-val score:  0.808 ,  0.010713333291001527 !!!\n",
      "!!!test score:  0.7973333333333333 !!!\n",
      "\n",
      "!!!end making forex pipeline!!!\n",
      "\n",
      "\n"
     ]
    }
   ],
   "source": [
    "make_classification_models(root, MODELS_PATH, QUERIES_PATH)"
   ]
  },
  {
   "cell_type": "code",
   "execution_count": null,
   "metadata": {},
   "outputs": [],
   "source": []
  },
  {
   "cell_type": "code",
   "execution_count": null,
   "metadata": {},
   "outputs": [],
   "source": []
  },
  {
   "cell_type": "code",
   "execution_count": null,
   "metadata": {},
   "outputs": [],
   "source": []
  },
  {
   "cell_type": "code",
   "execution_count": null,
   "metadata": {},
   "outputs": [],
   "source": []
  }
 ],
 "metadata": {
  "kernelspec": {
   "display_name": "Python 3",
   "language": "python",
   "name": "python3"
  },
  "language_info": {
   "codemirror_mode": {
    "name": "ipython",
    "version": 3
   },
   "file_extension": ".py",
   "mimetype": "text/x-python",
   "name": "python",
   "nbconvert_exporter": "python",
   "pygments_lexer": "ipython3",
   "version": "3.8.3"
  }
 },
 "nbformat": 4,
 "nbformat_minor": 4
}
